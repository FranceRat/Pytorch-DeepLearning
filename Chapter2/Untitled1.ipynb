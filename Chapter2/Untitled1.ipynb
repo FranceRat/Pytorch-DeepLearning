{
 "cells": [
  {
   "cell_type": "code",
   "execution_count": null,
   "metadata": {
    "id": "b9byiiUc2kP3"
   },
   "outputs": [],
   "source": [
    "from glob import glob"
   ]
  },
  {
   "cell_type": "code",
   "execution_count": null,
   "metadata": {
    "id": "7-zbXgFylaKt"
   },
   "outputs": [],
   "source": [
    "from google.colab import drive"
   ]
  },
  {
   "cell_type": "code",
   "execution_count": null,
   "metadata": {
    "colab": {
     "base_uri": "https://localhost:8080/"
    },
    "executionInfo": {
     "elapsed": 18,
     "status": "ok",
     "timestamp": 1622119799655,
     "user": {
      "displayName": "PY TORCH",
      "photoUrl": "",
      "userId": "01394943343175077582"
     },
     "user_tz": -540
    },
    "id": "lhQKsc7ol1jQ",
    "outputId": "fad74048-549b-4004-8956-c20b1fe31141"
   },
   "outputs": [
    {
     "name": "stdout",
     "output_type": "stream",
     "text": [
      "Drive already mounted at /content/gdrive; to attempt to forcibly remount, call drive.mount(\"/content/gdrive\", force_remount=True).\n"
     ]
    }
   ],
   "source": [
    "drive.mount(\"/content/gdrive\")"
   ]
  },
  {
   "cell_type": "code",
   "execution_count": null,
   "metadata": {
    "colab": {
     "base_uri": "https://localhost:8080/"
    },
    "executionInfo": {
     "elapsed": 14,
     "status": "ok",
     "timestamp": 1622119799657,
     "user": {
      "displayName": "PY TORCH",
      "photoUrl": "",
      "userId": "01394943343175077582"
     },
     "user_tz": -540
    },
    "id": "HQlLO862l833",
    "outputId": "09e450ee-bb97-4800-9dfd-c58232d55a3c"
   },
   "outputs": [
    {
     "name": "stdout",
     "output_type": "stream",
     "text": [
      "/content/gdrive/MyDrive/Colab Notebooks/PyTorchによる発展/Chapter2\n"
     ]
    }
   ],
   "source": [
    "%cd '/content/gdrive/MyDrive/Colab Notebooks/PyTorchによる発展/Chapter2'"
   ]
  },
  {
   "cell_type": "code",
   "execution_count": null,
   "metadata": {
    "id": "5_h-3Ry_27lB"
   },
   "outputs": [],
   "source": [
    "path=\"/content/gdrive/MyDrive/*.txt\""
   ]
  },
  {
   "cell_type": "code",
   "execution_count": null,
   "metadata": {
    "id": "DJo82XxH3QT7"
   },
   "outputs": [],
   "source": [
    "import os"
   ]
  },
  {
   "cell_type": "code",
   "execution_count": null,
   "metadata": {
    "id": "zMziEgXS3TFK"
   },
   "outputs": [],
   "source": [
    "paths=glob(path)"
   ]
  },
  {
   "cell_type": "code",
   "execution_count": null,
   "metadata": {
    "id": "bcbPlXkJ3YMC"
   },
   "outputs": [],
   "source": [
    "for i in paths:\n",
    "  os.remove(i)"
   ]
  },
  {
   "cell_type": "code",
   "execution_count": null,
   "metadata": {
    "colab": {
     "base_uri": "https://localhost:8080/"
    },
    "executionInfo": {
     "elapsed": 10,
     "status": "ok",
     "timestamp": 1622119919797,
     "user": {
      "displayName": "PY TORCH",
      "photoUrl": "",
      "userId": "01394943343175077582"
     },
     "user_tz": -540
    },
    "id": "NE3H7rQu3Y6q",
    "outputId": "5553a400-de24-454e-bb0e-85fba404729b"
   },
   "outputs": [
    {
     "data": {
      "text/plain": [
       "[]"
      ]
     },
     "execution_count": 41,
     "metadata": {
      "tags": []
     },
     "output_type": "execute_result"
    }
   ],
   "source": [
    "paths"
   ]
  },
  {
   "cell_type": "code",
   "execution_count": null,
   "metadata": {
    "colab": {
     "base_uri": "https://localhost:8080/"
    },
    "executionInfo": {
     "elapsed": 213,
     "status": "ok",
     "timestamp": 1622187997247,
     "user": {
      "displayName": "PY TORCH",
      "photoUrl": "",
      "userId": "01394943343175077582"
     },
     "user_tz": -540
    },
    "id": "3dG0J3h83o8x",
    "outputId": "c87989de-1b9e-4f79-cfc5-82213c47fecd"
   },
   "outputs": [
    {
     "data": {
      "text/plain": [
       "[[1, 2, 3], [1, 2]]"
      ]
     },
     "execution_count": 2,
     "metadata": {
      "tags": []
     },
     "output_type": "execute_result"
    }
   ],
   "source": [
    "[]+[[1,2,3]]+[[1,2]]"
   ]
  },
  {
   "cell_type": "code",
   "execution_count": null,
   "metadata": {
    "id": "iMRrw8pc8DR0"
   },
   "outputs": [],
   "source": [
    "WAEA=12"
   ]
  },
  {
   "cell_type": "code",
   "execution_count": null,
   "metadata": {
    "id": "FSdAHBOdvWE0"
   },
   "outputs": [],
   "source": [
    "WAEA=34"
   ]
  },
  {
   "cell_type": "code",
   "execution_count": 2,
   "metadata": {
    "colab": {
     "base_uri": "https://localhost:8080/",
     "height": 35
    },
    "executionInfo": {
     "elapsed": 240,
     "status": "ok",
     "timestamp": 1625230664173,
     "user": {
      "displayName": "PY TORCH",
      "photoUrl": "",
      "userId": "01394943343175077582"
     },
     "user_tz": -540
    },
    "id": "Qot4cWDrvby7",
    "outputId": "d1028bea-ae5e-4119-db80-273d636b6d31"
   },
   "outputs": [
    {
     "data": {
      "application/vnd.google.colaboratory.intrinsic+json": {
       "type": "string"
      },
      "text/plain": [
       "'jjdaksjjsjdh'"
      ]
     },
     "execution_count": 2,
     "metadata": {
      "tags": []
     },
     "output_type": "execute_result"
    }
   ],
   "source": [
    "\"j%sjsjdh\"%\"jdaksj\""
   ]
  },
  {
   "cell_type": "code",
   "execution_count": null,
   "metadata": {
    "id": "VKkrbjEtSzKm"
   },
   "outputs": [],
   "source": []
  }
 ],
 "metadata": {
  "colab": {
   "authorship_tag": "ABX9TyOlt3TT7dr6hnkHyEEcnfa4",
   "name": "Untitled1.ipynb",
   "provenance": []
  },
  "kernelspec": {
   "display_name": "Python 3 (ipykernel)",
   "language": "python",
   "name": "python3"
  },
  "language_info": {
   "codemirror_mode": {
    "name": "ipython",
    "version": 3
   },
   "file_extension": ".py",
   "mimetype": "text/x-python",
   "name": "python",
   "nbconvert_exporter": "python",
   "pygments_lexer": "ipython3",
   "version": "3.8.10"
  }
 },
 "nbformat": 4,
 "nbformat_minor": 4
}
