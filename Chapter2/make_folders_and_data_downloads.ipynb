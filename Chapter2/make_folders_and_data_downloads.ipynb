{
 "cells": [
  {
   "cell_type": "code",
   "execution_count": 4,
   "metadata": {
    "colab": {
     "base_uri": "https://localhost:8080/"
    },
    "executionInfo": {
     "elapsed": 200,
     "status": "ok",
     "timestamp": 1622120010455,
     "user": {
      "displayName": "PY TORCH",
      "photoUrl": "",
      "userId": "01394943343175077582"
     },
     "user_tz": -540
    },
    "id": "qBmrAC2f2NPP",
    "outputId": "422b0c74-9814-4d23-b776-b75d399f9274"
   },
   "outputs": [
    {
     "name": "stdout",
     "output_type": "stream",
     "text": [
      "ls: cannot access '/content/gdrive/MyDrive/Colab Notebooks/PyTorchによる発展/Chapter2/data/VOCdevkit/VOC2012/JPEGImages': No such file or directory\n"
     ]
    }
   ],
   "source": [
    "!ls \"/content/gdrive/MyDrive/Colab Notebooks/PyTorchによる発展/Chapter2/data/VOCdevkit/VOC2012/JPEGImages\""
   ]
  },
  {
   "cell_type": "markdown",
   "metadata": {
    "id": "H9Hcdk9896VP"
   },
   "source": [
    "# Driveへのマウンティング"
   ]
  },
  {
   "cell_type": "code",
   "execution_count": 1,
   "metadata": {
    "executionInfo": {
     "elapsed": 14,
     "status": "ok",
     "timestamp": 1622119960752,
     "user": {
      "displayName": "PY TORCH",
      "photoUrl": "",
      "userId": "01394943343175077582"
     },
     "user_tz": -540
    },
    "id": "7-zbXgFylaKt"
   },
   "outputs": [],
   "source": [
    "from google.colab import drive"
   ]
  },
  {
   "cell_type": "code",
   "execution_count": 2,
   "metadata": {
    "colab": {
     "base_uri": "https://localhost:8080/"
    },
    "executionInfo": {
     "elapsed": 25376,
     "status": "ok",
     "timestamp": 1622119986118,
     "user": {
      "displayName": "PY TORCH",
      "photoUrl": "",
      "userId": "01394943343175077582"
     },
     "user_tz": -540
    },
    "id": "lhQKsc7ol1jQ",
    "outputId": "ffe4a25e-3e6f-41d4-f5a6-eb6302b89cef"
   },
   "outputs": [
    {
     "name": "stdout",
     "output_type": "stream",
     "text": [
      "Mounted at /content/gdrive\n"
     ]
    }
   ],
   "source": [
    "drive.mount(\"/content/gdrive\")"
   ]
  },
  {
   "cell_type": "code",
   "execution_count": 3,
   "metadata": {
    "colab": {
     "base_uri": "https://localhost:8080/"
    },
    "executionInfo": {
     "elapsed": 356,
     "status": "ok",
     "timestamp": 1622120003201,
     "user": {
      "displayName": "PY TORCH",
      "photoUrl": "",
      "userId": "01394943343175077582"
     },
     "user_tz": -540
    },
    "id": "HQlLO862l833",
    "outputId": "8f189723-c5d5-4fb9-fdcd-630d7a7befca"
   },
   "outputs": [
    {
     "name": "stdout",
     "output_type": "stream",
     "text": [
      "/content/gdrive/MyDrive/Colab Notebooks/PyTorchによる発展/Chapter2\n"
     ]
    }
   ],
   "source": [
    "%cd '/content/gdrive/MyDrive/Colab Notebooks/PyTorchによる発展/Chapter2'"
   ]
  },
  {
   "cell_type": "markdown",
   "metadata": {
    "id": "I6Ol1Ofy2Dhx"
   },
   "source": [
    "# 「第2章 物体検出」の準備ファイル\n",
    "\n",
    "- 本ファイルでは、第2章で使用するフォルダの作成とファイルのダウンロードを行います。"
   ]
  },
  {
   "cell_type": "code",
   "execution_count": 5,
   "metadata": {
    "executionInfo": {
     "elapsed": 302,
     "status": "ok",
     "timestamp": 1622120103051,
     "user": {
      "displayName": "PY TORCH",
      "photoUrl": "",
      "userId": "01394943343175077582"
     },
     "user_tz": -540
    },
    "id": "dOgCxYh52Dh0"
   },
   "outputs": [],
   "source": [
    "import os\n",
    "import urllib.request\n",
    "import zipfile\n",
    "import tarfile"
   ]
  },
  {
   "cell_type": "code",
   "execution_count": 6,
   "metadata": {
    "executionInfo": {
     "elapsed": 4,
     "status": "ok",
     "timestamp": 1622120103310,
     "user": {
      "displayName": "PY TORCH",
      "photoUrl": "",
      "userId": "01394943343175077582"
     },
     "user_tz": -540
    },
    "id": "3IkzTOE-2Dh1"
   },
   "outputs": [],
   "source": [
    "# フォルダ「data」が存在しない場合は作成する\n",
    "data_dir = \"/content/gdrive/MyDrive/Colab Notebooks/PyTorchによる発展/Chapter2/data/\"\n",
    "if not os.path.exists(data_dir):\n",
    "    os.mkdir(data_dir)"
   ]
  },
  {
   "cell_type": "code",
   "execution_count": 7,
   "metadata": {
    "executionInfo": {
     "elapsed": 4,
     "status": "ok",
     "timestamp": 1622120103310,
     "user": {
      "displayName": "PY TORCH",
      "photoUrl": "",
      "userId": "01394943343175077582"
     },
     "user_tz": -540
    },
    "id": "kHGUOxWk2Dh2"
   },
   "outputs": [],
   "source": [
    "# フォルダ「weights」が存在しない場合は作成する\n",
    "weights_dir = \"/content/gdrive/MyDrive/Colab Notebooks/PyTorchによる発展/Chapter2/weights/\"\n",
    "if not os.path.exists(weights_dir):\n",
    "    os.mkdir(weights_dir)"
   ]
  },
  {
   "cell_type": "code",
   "execution_count": 8,
   "metadata": {
    "executionInfo": {
     "elapsed": 1048091,
     "status": "ok",
     "timestamp": 1622121151398,
     "user": {
      "displayName": "PY TORCH",
      "photoUrl": "",
      "userId": "01394943343175077582"
     },
     "user_tz": -540
    },
    "id": "9kEuPsNo2Dh2"
   },
   "outputs": [],
   "source": [
    "# VOC2012のデータセットをここからダウンロードします\n",
    "# 時間がかかります（約15分）\n",
    "url = \"http://host.robots.ox.ac.uk/pascal/VOC/voc2012/VOCtrainval_11-May-2012.tar\"\n",
    "target_path = os.path.join(data_dir, \"VOCtrainval_11-May-2012.tar\") \n",
    "\n",
    "if not os.path.exists(target_path):\n",
    "    urllib.request.urlretrieve(url, target_path)\n",
    "    \n",
    "    tar = tarfile.TarFile(target_path)  # tarファイルを読み込み\n",
    "    tar.extractall(data_dir)  # tarを解凍\n",
    "    tar.close()  # tarファイルをクローズ\n",
    "else:\n",
    "    tar = tarfile.TarFile(target_path)  # tarファイルを読み込み\n",
    "    tar.extractall(data_dir)  # tarを解凍\n",
    "    tar.close()\n",
    "  \n",
    "    "
   ]
  },
  {
   "cell_type": "code",
   "execution_count": 9,
   "metadata": {
    "executionInfo": {
     "elapsed": 1721,
     "status": "ok",
     "timestamp": 1622121153106,
     "user": {
      "displayName": "PY TORCH",
      "photoUrl": "",
      "userId": "01394943343175077582"
     },
     "user_tz": -540
    },
    "id": "fuU7KO8g2Dh3"
   },
   "outputs": [],
   "source": [
    "# 学習済みのSSD用のVGGのパラメータをフォルダ「weights」にダウンロード\n",
    "# MIT License\n",
    "# Copyright (c) 2017 Max deGroot, Ellis Brown\n",
    "# https://github.com/amdegroot/ssd.pytorch\n",
    "    \n",
    "url = \"https://s3.amazonaws.com/amdegroot-models/vgg16_reducedfc.pth\"\n",
    "target_path = os.path.join(weights_dir, \"vgg16_reducedfc.pth\") \n",
    "\n",
    "if not os.path.exists(target_path):\n",
    "    urllib.request.urlretrieve(url, target_path)"
   ]
  },
  {
   "cell_type": "code",
   "execution_count": 10,
   "metadata": {
    "executionInfo": {
     "elapsed": 2330,
     "status": "ok",
     "timestamp": 1622121155425,
     "user": {
      "displayName": "PY TORCH",
      "photoUrl": "",
      "userId": "01394943343175077582"
     },
     "user_tz": -540
    },
    "id": "097_EwZP2Dh3"
   },
   "outputs": [],
   "source": [
    "# 学習済みのSSD300モデルをフォルダ「weights」にダウンロード\n",
    "# MIT License\n",
    "# Copyright (c) 2017 Max deGroot, Ellis Brown\n",
    "# https://github.com/amdegroot/ssd.pytorch\n",
    "\n",
    "url = \"https://s3.amazonaws.com/amdegroot-models/ssd300_mAP_77.43_v2.pth\"\n",
    "target_path = os.path.join(weights_dir, \"ssd300_mAP_77.43_v2.pth\") \n",
    "\n",
    "if not os.path.exists(target_path):\n",
    "    urllib.request.urlretrieve(url, target_path)\n"
   ]
  },
  {
   "cell_type": "code",
   "execution_count": 11,
   "metadata": {
    "colab": {
     "base_uri": "https://localhost:8080/",
     "height": 134
    },
    "executionInfo": {
     "elapsed": 15,
     "status": "error",
     "timestamp": 1622121155426,
     "user": {
      "displayName": "PY TORCH",
      "photoUrl": "",
      "userId": "01394943343175077582"
     },
     "user_tz": -540
    },
    "id": "G00ZUrzo2Dh4",
    "outputId": "2bf325f8-58df-4551-acb7-5c4836bba030"
   },
   "outputs": [
    {
     "ename": "SyntaxError",
     "evalue": "ignored",
     "output_type": "error",
     "traceback": [
      "\u001b[0;36m  File \u001b[0;32m\"<ipython-input-11-06c5f3043a2a>\"\u001b[0;36m, line \u001b[0;32m1\u001b[0m\n\u001b[0;31m    【※（実施済み）】\u001b[0m\n\u001b[0m            ^\u001b[0m\n\u001b[0;31mSyntaxError\u001b[0m\u001b[0;31m:\u001b[0m invalid character in identifier\n"
     ]
    }
   ],
   "source": [
    "【※（実施済み）】\n",
    "\n",
    "乗馬の画像を手動でダウンロード\n",
    "\n",
    "https://pixabay.com/ja/photos/%E3%82%AB%E3%82%A6%E3%83%9C%E3%83%BC%E3%82%A4-%E9%A6%AC-%E4%B9%97%E9%A6%AC-%E6%B0%B4-%E6%B5%B7-757575/\n",
    "の640×426サイズの画像\n",
    "（画像権利情報：商用利用無料、帰属表示は必要ありません）\n",
    "\n",
    "を、フォルダ「data」の直下に置く。\n",
    "\n"
   ]
  },
  {
   "cell_type": "code",
   "execution_count": null,
   "metadata": {
    "executionInfo": {
     "elapsed": 10,
     "status": "aborted",
     "timestamp": 1622121155426,
     "user": {
      "displayName": "PY TORCH",
      "photoUrl": "",
      "userId": "01394943343175077582"
     },
     "user_tz": -540
    },
    "id": "go7kgVvu2Dh4"
   },
   "outputs": [],
   "source": [
    "本章の内容で筆者が作成した学習済みのSSD300モデル「ssd300_50.pth」\n",
    "\n",
    "\n",
    "https://drive.google.com/open?id=1_zTTYQ2j0r-Qe3VBbHzvURD0c1P2ZSE9   \n",
    "    \n",
    "    \n",
    "必ずしもダウンロードの必要はありませんが、\n",
    "自分でSSDネットワークを学習させる前に、学習済みモデルを試したい場合は、\n",
    "手動ダウンロードした「ssd300_50.pth」をフォルダ「wights」に配置してください。\n"
   ]
  },
  {
   "cell_type": "markdown",
   "metadata": {
    "id": "-06FbpBY2Dh5"
   },
   "source": [
    "以上"
   ]
  }
 ],
 "metadata": {
  "colab": {
   "name": "make_folders_and_data_downloads.ipynb",
   "provenance": [],
   "toc_visible": true
  },
  "kernelspec": {
   "display_name": "Python 3 (ipykernel)",
   "language": "python",
   "name": "python3"
  },
  "language_info": {
   "codemirror_mode": {
    "name": "ipython",
    "version": 3
   },
   "file_extension": ".py",
   "mimetype": "text/x-python",
   "name": "python",
   "nbconvert_exporter": "python",
   "pygments_lexer": "ipython3",
   "version": "3.8.10"
  }
 },
 "nbformat": 4,
 "nbformat_minor": 4
}
